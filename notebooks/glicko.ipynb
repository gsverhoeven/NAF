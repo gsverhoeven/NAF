{
 "cells": [
  {
   "cell_type": "code",
   "execution_count": null,
   "metadata": {},
   "outputs": [],
   "source": [
    "import glicko2 as Glicko"
   ]
  },
  {
   "cell_type": "code",
   "execution_count": null,
   "metadata": {},
   "outputs": [],
   "source": [
    "# improbable results are likely so set tau low\n",
    "TAU = 0.2     # system constant\n",
    "MU = 1500\n",
    "PHI = 500     # Starting rating deviation\n",
    "SIGMA = 0.03  # starting volatility"
   ]
  },
  {
   "cell_type": "code",
   "execution_count": null,
   "metadata": {},
   "outputs": [],
   "source": [
    "glck = Glicko.Glicko2(mu=MU, tau=TAU, phi=PHI, sigma=SIGMA)"
   ]
  },
  {
   "cell_type": "code",
   "execution_count": null,
   "metadata": {},
   "outputs": [],
   "source": [
    "import pandas as pd\n",
    "import math\n",
    "import numpy as np"
   ]
  },
  {
   "cell_type": "code",
   "execution_count": null,
   "metadata": {},
   "outputs": [],
   "source": [
    "import seaborn as sns"
   ]
  },
  {
   "cell_type": "code",
   "execution_count": null,
   "metadata": {},
   "outputs": [],
   "source": [
    "import matplotlib.pyplot as plt\n",
    "%matplotlib inline"
   ]
  },
  {
   "cell_type": "code",
   "execution_count": null,
   "metadata": {},
   "outputs": [],
   "source": [
    "naf_data = pd.read_csv(\"data/all_matches.csv.gz\", sep=\",\",\n",
    "                       index_col=None)"
   ]
  },
  {
   "cell_type": "code",
   "execution_count": null,
   "metadata": {},
   "outputs": [],
   "source": [
    "naf_data[\"date\"] = pd.to_datetime(\n",
    "    naf_data.date, format=\"%Y/%m/%d\")"
   ]
  },
  {
   "cell_type": "code",
   "execution_count": null,
   "metadata": {},
   "outputs": [],
   "source": [
    "naf_data.set_index(\"date\", inplace=True)"
   ]
  },
  {
   "cell_type": "code",
   "execution_count": null,
   "metadata": {},
   "outputs": [],
   "source": [
    "naf_data.sort_index(inplace=True)"
   ]
  },
  {
   "cell_type": "code",
   "execution_count": null,
   "metadata": {},
   "outputs": [],
   "source": [
    "# up to June '17 due to errors in data\n",
    "naf_data = naf_data[:pd.Timestamp('2017-06-01')]"
   ]
  },
  {
   "cell_type": "code",
   "execution_count": null,
   "metadata": {},
   "outputs": [],
   "source": [
    "plt.plot(naf_data.index, \"o\")"
   ]
  },
  {
   "attachments": {},
   "cell_type": "markdown",
   "metadata": {},
   "source": [
    "## Set lookup"
   ]
  },
  {
   "cell_type": "code",
   "execution_count": null,
   "metadata": {},
   "outputs": [],
   "source": [
    "race_ids = sorted(naf_data.home_race.unique())"
   ]
  },
  {
   "cell_type": "code",
   "execution_count": null,
   "metadata": {},
   "outputs": [],
   "source": [
    "class Player(object):\n",
    "    \n",
    "    # need to maintain only historical rankings, not phi etc.\n",
    "    hist_mu = None\n",
    "    hist_phi = None\n",
    "    \n",
    "    def __init__(self, player_id, periods):\n",
    "        \n",
    "        self.pid = player_id\n",
    "        self.hist_mu = pd.DataFrame(\n",
    "            columns=race_ids, index=periods, dtype=float)\n",
    "        self.hist_phi = pd.DataFrame(\n",
    "            columns=race_ids, index=periods, dtype=float)\n",
    "        self.rankings = {}\n",
    "        self.new_rankings = {}\n",
    "              \n",
    "    def init_rating(self, race_id, method=\"median\"):\n",
    "        \n",
    "        if (method == \"default\") or (len(self.rankings) < 2):\n",
    "            \n",
    "            self.rankings[race_id] = glck.create_rating(\n",
    "                mu=MU, phi=PHI, sigma=SIGMA)\n",
    "            \n",
    "        elif method == \"median\":\n",
    "            # other rankings. Possibly exclude stunties? \n",
    "            # divide PHI by the number of other ranks?\n",
    "            # Or always start stunties at 1500?\n",
    "            mu_vals = [v.mu for v in self.rankings.values()]\n",
    "            phi_vals = [v.phi for v in self.rankings.values()]\n",
    "            _mu = np.median(mu_vals)\n",
    "            _phi = np.max(phi_vals)\n",
    "\n",
    "            self.rankings[race_id] = glck.create_rating(\n",
    "                mu=_mu, phi=_phi, sigma=SIGMA)\n",
    "\n",
    "        return self.rankings[race_id]\n",
    "    \n",
    "    def end_ranking_period(self, date):\n",
    "        \n",
    "        # copy new rankings\n",
    "        for race in self.hist_mu.columns:\n",
    "            if (race in self.rankings) and (race not in self.new_rankings):\n",
    "                self.rankings[race] = self.decay(race)\n",
    "            elif race in self.new_rankings:\n",
    "                self.rankings[race] = self.new_rankings[race]\n",
    "                \n",
    "        # delete temp ranks\n",
    "        self.new_rankings = {}\n",
    "        \n",
    "        # fill historical with rankings.\n",
    "        for rid, rank in self.rankings.items():\n",
    "            self.hist_mu[rid].loc[date] = rank.mu\n",
    "            self.hist_phi[rid].loc[date] = rank.phi\n",
    "            \n",
    "    def decay(self, race):\n",
    "        \n",
    "        # transform into glicko space...\n",
    "        dnp = glck.scale_down(self.rankings[race])\n",
    "        \n",
    "        # increment phi\n",
    "        phi_star = math.sqrt(min(PHI, dnp.phi ** 2 + dnp.sigma ** 2))\n",
    "                \n",
    "        return glck.scale_up(\n",
    "            glck.create_rating(mu=dnp.mu, phi=phi_star, sigma=dnp.sigma))"
   ]
  },
  {
   "cell_type": "code",
   "execution_count": null,
   "metadata": {},
   "outputs": [],
   "source": [
    "cols_home = [\"home_coach\", \"home_race\", \"home_score\"]\n",
    "\n",
    "cols_away = [\"away_coach\", \"away_race\", \"away_score\"]"
   ]
  },
  {
   "cell_type": "code",
   "execution_count": null,
   "metadata": {},
   "outputs": [],
   "source": [
    "tmp = naf_data[cols_home + cols_away].copy()\n",
    "tmp2 = naf_data[cols_away + cols_home].copy()\n",
    "tmp2.columns = tmp.columns"
   ]
  },
  {
   "cell_type": "code",
   "execution_count": null,
   "metadata": {},
   "outputs": [],
   "source": [
    "rank_data = pd.concat([tmp, tmp2])"
   ]
  },
  {
   "cell_type": "code",
   "execution_count": null,
   "metadata": {},
   "outputs": [],
   "source": [
    "diff = (rank_data.home_score - rank_data.away_score)\n",
    "win = diff > 0\n",
    "draw = diff == 0\n",
    "rank_data[\"result\"] = 0 + (0.5 * draw) + (1.0 * win)"
   ]
  },
  {
   "cell_type": "code",
   "execution_count": null,
   "metadata": {},
   "outputs": [],
   "source": [
    "grouped_games = rank_data.groupby(pd.Grouper(freq='M'))"
   ]
  },
  {
   "cell_type": "code",
   "execution_count": null,
   "metadata": {},
   "outputs": [],
   "source": [
    "rank_periods = [p for p, _ in grouped_games]"
   ]
  },
  {
   "cell_type": "code",
   "execution_count": null,
   "metadata": {},
   "outputs": [],
   "source": [
    "ranking_data = dict()"
   ]
  },
  {
   "cell_type": "code",
   "execution_count": null,
   "metadata": {},
   "outputs": [],
   "source": [
    "%%time\n",
    "for period, x in grouped_games:\n",
    "    \n",
    "    if period.month == 1:\n",
    "        print(period)\n",
    "        \n",
    "    for xid in x.home_coach.unique():\n",
    "        if xid not in ranking_data:\n",
    "            ranking_data[xid] = Player(xid, rank_periods)\n",
    "    \n",
    "    # group by player\n",
    "    grped = x.groupby([\"home_coach\", \"home_race\"])\n",
    "    \n",
    "    # first run through all players who have played in this period\n",
    "    for (player, race), data in grped:\n",
    "        \n",
    "        player_rank = ranking_data[player]\n",
    "        \n",
    "        # if new race\n",
    "        if race not in player_rank.rankings:\n",
    "            player_rank.init_rating(race)\n",
    "            \n",
    "        series = list()\n",
    "\n",
    "        for opp_id, opp_race, result in zip(\n",
    "            data.away_coach, data.away_race, data.result):\n",
    "            \n",
    "            opp_rank = ranking_data[opp_id]\n",
    "            \n",
    "            # opponent ranking?\n",
    "            if opp_race not in opp_rank.rankings:\n",
    "                opp_rank.init_rating(opp_race)\n",
    "            \n",
    "            series.append(\n",
    "                (result, opp_rank.rankings[opp_race]))\n",
    "        \n",
    "        player_rank.new_rankings[race] = glck.rate(\n",
    "            player_rank.rankings[race], series)\n",
    "        \n",
    "    # end all ranking periods.\n",
    "    for k, v in ranking_data.items():\n",
    "        v.end_ranking_period(period)"
   ]
  },
  {
   "cell_type": "code",
   "execution_count": null,
   "metadata": {},
   "outputs": [],
   "source": [
    "import matplotlib.pyplot as plt\n",
    "%matplotlib inline"
   ]
  },
  {
   "cell_type": "code",
   "execution_count": null,
   "metadata": {},
   "outputs": [],
   "source": [
    "current_ratings = {}\n",
    "\n",
    "for key, value in ranking_data.items():\n",
    "    if value.pid is np.nan:\n",
    "        continue\n",
    "    mu_val = value.hist_mu.iloc[-1]\n",
    "    phi_val = value.hist_phi.iloc[-1]\n",
    "    \n",
    "    current_ratings[value.pid] = mu_val - (2 * phi_val)"
   ]
  },
  {
   "cell_type": "code",
   "execution_count": null,
   "metadata": {},
   "outputs": [],
   "source": [
    "df_current_ratings = pd.DataFrame(pd.concat(current_ratings, names=[\"coach\", \"race\"]))\n",
    "df_current_ratings.columns = [\"rating\"]"
   ]
  },
  {
   "cell_type": "code",
   "execution_count": null,
   "metadata": {},
   "outputs": [],
   "source": [
    "df_current_ratings.rating\n",
    "df_current_ratings.rating.dropna(inplace=True)"
   ]
  },
  {
   "cell_type": "code",
   "execution_count": null,
   "metadata": {},
   "outputs": [],
   "source": [
    "df_current_ratings = df_current_ratings.rating.astype(\"float\")"
   ]
  },
  {
   "cell_type": "code",
   "execution_count": null,
   "metadata": {},
   "outputs": [],
   "source": [
    "df_current_ratings = df_current_ratings[~np.isnan(df_current_ratings)]"
   ]
  },
  {
   "cell_type": "code",
   "execution_count": null,
   "metadata": {},
   "outputs": [],
   "source": [
    "df_current_ratings = df_current_ratings.sort_values(ascending=False)"
   ]
  },
  {
   "cell_type": "code",
   "execution_count": null,
   "metadata": {},
   "outputs": [],
   "source": [
    "df_current_ratings[:30]"
   ]
  },
  {
   "attachments": {},
   "cell_type": "markdown",
   "metadata": {},
   "source": [
    "## Plot historical stats of some players\n",
    "\n",
    "Issue- need to make mu stickier to slow down changes\n",
    "\n",
    "Lower volatility?"
   ]
  },
  {
   "cell_type": "code",
   "execution_count": null,
   "metadata": {},
   "outputs": [],
   "source": [
    "ranking_data[\"Atropabelladonna\"].rankings"
   ]
  },
  {
   "cell_type": "code",
   "execution_count": null,
   "metadata": {},
   "outputs": [],
   "source": [
    "ranking_data[\"Jimjimany\"].rankings"
   ]
  },
  {
   "cell_type": "code",
   "execution_count": null,
   "metadata": {},
   "outputs": [],
   "source": [
    "import seaborn as sns"
   ]
  },
  {
   "cell_type": "code",
   "execution_count": null,
   "metadata": {},
   "outputs": [],
   "source": [
    "fig, ax = plt.subplots(figsize=(10, 5))\n",
    "\n",
    "poi = (\n",
    "    (\"Jimjimany\", \"Wood Elves\"),\n",
    "    (\"Pipey\", \"Norse\"),\n",
    "    (\"Joemanji\", \"Undead\"),\n",
    "    (\"Purplegoo\", \"Vampires\"), \n",
    "    (\"mubo\", \"Dark Elves\"),\n",
    "    (\"Podfrey\", \"Amazons\"))\n",
    "\n",
    "for coach, race in poi:\n",
    "    \n",
    "    ranking_ = ranking_data[coach].hist_mu[race] - (2 * ranking_data[coach].hist_phi[race])\n",
    "    \n",
    "    ax.plot(ranking_, label=\"{0}: {1}\".format(coach, race))\n",
    "ax.legend(loc=3)"
   ]
  },
  {
   "cell_type": "code",
   "execution_count": null,
   "metadata": {},
   "outputs": [],
   "source": [
    "sns.distplot(df_current_ratings)"
   ]
  },
  {
   "cell_type": "code",
   "execution_count": null,
   "metadata": {},
   "outputs": [],
   "source": [
    "df_current_ratings.reset_index().iloc[0]"
   ]
  },
  {
   "cell_type": "code",
   "execution_count": null,
   "metadata": {},
   "outputs": [],
   "source": [
    "fig, ax = plt.subplots(figsize=(10, 5))\n",
    "\n",
    "for i in range(7):\n",
    "    p = df_current_ratings.reset_index().iloc[i]\n",
    "    coach, race = p.coach, p.race\n",
    "    ranking_ = ranking_data[coach].hist_mu[race] - (2 * ranking_data[coach].hist_phi[race])\n",
    "    \n",
    "    ax.plot(ranking_, label=\"{0}: {1}\".format(coach, race))\n",
    "\n",
    "ax.legend(loc=3)"
   ]
  },
  {
   "cell_type": "code",
   "execution_count": null,
   "metadata": {},
   "outputs": [],
   "source": [
    "x = df_current_ratings.reset_index()"
   ]
  },
  {
   "cell_type": "code",
   "execution_count": null,
   "metadata": {},
   "outputs": [],
   "source": [
    "sns.boxplot(y=\"race\", x=\"rating\", data=x)"
   ]
  },
  {
   "cell_type": "code",
   "execution_count": null,
   "metadata": {},
   "outputs": [],
   "source": []
  }
 ],
 "metadata": {
  "kernelspec": {
   "display_name": "Python 3",
   "language": "python",
   "name": "python3"
  },
  "language_info": {
   "codemirror_mode": {
    "name": "ipython",
    "version": 3
   },
   "file_extension": ".py",
   "mimetype": "text/x-python",
   "name": "python",
   "nbconvert_exporter": "python",
   "pygments_lexer": "ipython3",
   "version": "3.11.4"
  }
 },
 "nbformat": 4,
 "nbformat_minor": 1
}
